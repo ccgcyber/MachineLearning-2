{
 "cells": [
  {
   "cell_type": "markdown",
   "metadata": {},
   "source": [
    "## LDA/Fisher 源码实现 "
   ]
  },
  {
   "cell_type": "markdown",
   "metadata": {},
   "source": [
    "### 引入相关库"
   ]
  },
  {
   "cell_type": "code",
   "execution_count": 1,
   "metadata": {},
   "outputs": [],
   "source": [
    "import numpy as np\n",
    "import pandas as pd\n",
    "import matplotlib.pyplot as plt\n"
   ]
  },
  {
   "cell_type": "code",
   "execution_count": 2,
   "metadata": {},
   "outputs": [],
   "source": [
    "#计算均值,要求输入数据为numpy的矩阵格式，行表示样本数，列表示特征    \n",
    "def meanX(data):\n",
    "    return np.mean(data, axis=0) #axis=0表示按照列来求均值，如果输入list,则axis=1\n"
   ]
  },
  {
   "cell_type": "markdown",
   "metadata": {},
   "source": [
    "### LDA算法实现"
   ]
  },
  {
   "cell_type": "code",
   "execution_count": 3,
   "metadata": {},
   "outputs": [],
   "source": [
    "#计算类内离散度矩阵子项si\n",
    "def compute_si(xi):\n",
    "    n = xi.shape[0]\n",
    "    ui = meanX(xi)\n",
    "    si = 0\n",
    "    for i in range(0, n):\n",
    "        si = si + ( xi[i, :] - ui).T * (xi[i, :] - ui )   \n",
    "    return si\n",
    "\n",
    "#计算类间离散度矩阵Sb\n",
    "def compute_Sb(x1, x2):\n",
    "    dataX=np.vstack((x1,x2))#合并样本   \n",
    "    print \"dataX:\", dataX\n",
    "    #计算均值\n",
    "    u1=meanX(x1)\n",
    "    u2=meanX(x2)    \n",
    "    u=meanX(dataX) #所有样本的均值\n",
    "    Sb = (u-u1).T * (u-u1) + (u-u2).T * (u-u2)\n",
    "    return Sb\n",
    "    \n",
    "        \n",
    "def LDA(x1, x2):\n",
    "    #计算类内离散度矩阵Sw\n",
    "    s1 = compute_si(x1)\n",
    "    s2 = compute_si(x2)     \n",
    "    #Sw=(n1*s1+n2*s2)/(n1+n2)\n",
    "    Sw = s1 + s2\n",
    "    \n",
    "    #计算类间离散度矩阵Sb\n",
    "    #Sb=(n1*(m-m1).T*(m-m1)+n2*(m-m2).T*(m-m2))/(n1+n2)\n",
    "    Sb = compute_Sb(x1, x2)\n",
    "    \n",
    "    #求最大特征值对应的特征向量    \n",
    "    eig_value, vec = np.linalg.eig(np.mat(Sw).I*Sb)#特征值和特征向量\n",
    "    index_vec = np.argsort(-eig_value)#对eig_value从大到小排序，返回索引\n",
    "    eig_index = index_vec[:1] #取出最大的特征值的索引\n",
    "    w = vec[:, eig_index] #取出最大的特征值对应的特征向量\n",
    "    return w"
   ]
  },
  {
   "cell_type": "markdown",
   "metadata": {},
   "source": [
    "### 构造数据集"
   ]
  },
  {
   "cell_type": "code",
   "execution_count": 4,
   "metadata": {},
   "outputs": [
    {
     "name": "stdout",
     "output_type": "stream",
     "text": [
      "[[16.96464962 16.94502501]\n",
      " [15.05454667 17.09013667]\n",
      " [15.56489963 19.84229387]\n",
      " [16.43831074 15.90474953]\n",
      " [18.48476088 15.03913508]\n",
      " [15.82917037 15.11968731]\n",
      " [15.73431849 19.21742217]\n",
      " [19.2702835  19.73339472]] [[2.63292147 3.47120986]\n",
      " [6.76104203 5.98453328]\n",
      " [6.62851068 6.8916269 ]\n",
      " [3.77655065 3.40796527]\n",
      " [2.3063607  3.40134092]\n",
      " [3.09106307 3.41137181]\n",
      " [3.29697416 2.28073533]\n",
      " [4.97203486 3.18686582]]\n"
     ]
    }
   ],
   "source": [
    "def createDataSet():  \n",
    "    X1 = np.mat(np.random.random((8, 2)) * 5 + 15)  #类别A\n",
    "    X2 = np.mat(np.random.random((8, 2)) * 5 + 2)   #类别B\n",
    "    return X1, X2  \n",
    "\n",
    "x1, x2 = createDataSet()\n",
    "\n",
    "print x1, x2"
   ]
  },
  {
   "cell_type": "markdown",
   "metadata": {},
   "source": [
    "### LDA训练"
   ]
  },
  {
   "cell_type": "code",
   "execution_count": 5,
   "metadata": {},
   "outputs": [
    {
     "name": "stdout",
     "output_type": "stream",
     "text": [
      "dataX: [[16.96464962 16.94502501]\n",
      " [15.05454667 17.09013667]\n",
      " [15.56489963 19.84229387]\n",
      " [16.43831074 15.90474953]\n",
      " [18.48476088 15.03913508]\n",
      " [15.82917037 15.11968731]\n",
      " [15.73431849 19.21742217]\n",
      " [19.2702835  19.73339472]\n",
      " [ 2.63292147  3.47120986]\n",
      " [ 6.76104203  5.98453328]\n",
      " [ 6.62851068  6.8916269 ]\n",
      " [ 3.77655065  3.40796527]\n",
      " [ 2.3063607   3.40134092]\n",
      " [ 3.09106307  3.41137181]\n",
      " [ 3.29697416  2.28073533]\n",
      " [ 4.97203486  3.18686582]]\n",
      "w: [[0.76741174]\n",
      " [0.6411546 ]]\n"
     ]
    }
   ],
   "source": [
    "w = LDA(x1, x2)\n",
    "print \"w:\",w"
   ]
  },
  {
   "cell_type": "code",
   "execution_count": 6,
   "metadata": {},
   "outputs": [],
   "source": [
    "# 编写一个绘图函数\n",
    "def plotFig(group):  \n",
    "    fig = plt.figure()  \n",
    "    plt.ylim(0, 30)  \n",
    "    plt.xlim(0, 30)  \n",
    "    ax = fig.add_subplot(111)  \n",
    "    ax.scatter(group[0,:].tolist(), group[1,:].tolist())  \n",
    "    plt.show()  "
   ]
  },
  {
   "cell_type": "code",
   "execution_count": 9,
   "metadata": {},
   "outputs": [
    {
     "data": {
      "image/png": "[encoded data removed]",
      "text/plain": [
       "<matplotlib.figure.Figure at 0x90d9a90>"
      ]
     },
     "metadata": {},
     "output_type": "display_data"
    }
   ],
   "source": [
    "#绘制图形\n",
    "plotFig(np.hstack((x1.T, x2.T)))  "
   ]
  },
  {
   "cell_type": "markdown",
   "metadata": {},
   "source": [
    "### 实例测试"
   ]
  },
  {
   "cell_type": "code",
   "execution_count": 8,
   "metadata": {},
   "outputs": [
    {
     "name": "stdout",
     "output_type": "stream",
     "text": [
      "Output:  [[-2.40824965]]\n"
     ]
    }
   ],
   "source": [
    "test2 = np.mat([2, 8]) \n",
    "g = np.dot(w.T, test2.T - 0.5 * (meanX(x1)-meanX(x2)).T)  \n",
    "print \"Output: \", g  "
   ]
  },
  {
   "cell_type": "markdown",
   "metadata": {},
   "source": [
    "结果输出表示该样本为负样本。"
   ]
  }
 ],
 "metadata": {
  "kernelspec": {
   "display_name": "Python 2",
   "language": "python",
   "name": "python2"
  },
  "language_info": {
   "codemirror_mode": {
    "name": "ipython",
    "version": 2
   },
   "file_extension": ".py",
   "mimetype": "text/x-python",
   "name": "python",
   "nbconvert_exporter": "python",
   "pygments_lexer": "ipython2",
   "version": "2.7.14"
  }
 },
 "nbformat": 4,
 "nbformat_minor": 2
}
